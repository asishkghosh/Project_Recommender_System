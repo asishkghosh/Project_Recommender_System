{
 "cells": [
  {
   "cell_type": "code",
   "execution_count": 1,
   "metadata": {},
   "outputs": [
    {
     "ename": "NameError",
     "evalue": "name 'optim' is not defined",
     "output_type": "error",
     "traceback": [
      "\u001b[0;31m---------------------------------------------------------------------------\u001b[0m",
      "\u001b[0;31mNameError\u001b[0m                                 Traceback (most recent call last)",
      "\u001b[0;32m<ipython-input-1-d72def0078c7>\u001b[0m in \u001b[0;36m<module>\u001b[0;34m\u001b[0m\n\u001b[0;32m----> 1\u001b[0;31m \u001b[0moptimizer\u001b[0m \u001b[0;34m=\u001b[0m \u001b[0moptim\u001b[0m\u001b[0;34m.\u001b[0m\u001b[0mAdagrad\u001b[0m\u001b[0;34m(\u001b[0m\u001b[0mmyNN\u001b[0m\u001b[0;34m.\u001b[0m\u001b[0mparameters\u001b[0m\u001b[0;34m(\u001b[0m\u001b[0;34m)\u001b[0m\u001b[0;34m,\u001b[0m\u001b[0mlr\u001b[0m \u001b[0;34m=\u001b[0m \u001b[0;36m0.0001\u001b[0m\u001b[0;34m)\u001b[0m\u001b[0;34m\u001b[0m\u001b[0;34m\u001b[0m\u001b[0m\n\u001b[0m\u001b[1;32m      2\u001b[0m \u001b[0;34m\u001b[0m\u001b[0m\n\u001b[1;32m      3\u001b[0m \u001b[0mbatch_size\u001b[0m \u001b[0;34m=\u001b[0m \u001b[0;36m128\u001b[0m\u001b[0;34m\u001b[0m\u001b[0;34m\u001b[0m\u001b[0m\n\u001b[1;32m      4\u001b[0m \u001b[0;34m\u001b[0m\u001b[0m\n\u001b[1;32m      5\u001b[0m \u001b[0mnpData\u001b[0m \u001b[0;34m=\u001b[0m \u001b[0mtrain\u001b[0m\u001b[0;34m.\u001b[0m\u001b[0mto_numpy\u001b[0m\u001b[0;34m(\u001b[0m\u001b[0;34m)\u001b[0m\u001b[0;34m\u001b[0m\u001b[0;34m\u001b[0m\u001b[0m\n",
      "\u001b[0;31mNameError\u001b[0m: name 'optim' is not defined"
     ]
    }
   ],
   "source": [
    "optimizer = optim.Adagrad(myNN.parameters(),lr = 0.0001)\n",
    "\n",
    "batch_size = 128\n",
    "\n",
    "npData = train.to_numpy()\n",
    "npData[:,:1] = npData[:,:1]/10 # scaling the target variable\n",
    "# traintrues = np.expm1(npData[:,4].reshape(-1,1)).reshape(-1)\n",
    "def ceil(a,b):\n",
    "    return -(-a//b)\n",
    "\n",
    "n_samples = len(npData)\n",
    "better_batch_size = ceil(n_samples, ceil(n_samples, batch_size))\n",
    "\n",
    "for i in range(10):\n",
    "#     preds=[]\n",
    "    for i in range(ceil(n_samples, better_batch_size)):\n",
    "        batch = npData[i * better_batch_size: (i+1) * better_batch_size]\n",
    "        batch = torch.Tensor(batch).to(device)\n",
    "        X = batch[:,1:]\n",
    "        y = batch[:,:1]\n",
    "        myNN.zero_grad()\n",
    "        pred = myNN(X)\n",
    "        err = F.mse_loss(pred,y)\n",
    "        err.backward()\n",
    "        optimizer.step()\n",
    "    print(torch.sqrt(err))\n",
    "    valpreds = myNN(torch.Tensor(validation.to_numpy()[:,1:]).to(device)).cpu().detach().numpy().reshape(-1)\n",
    "    print(np.sqrt(mean_squared_error(validation.sub_year.to_numpy(),valpreds*10)),\"Validation Error\")"
   ]
  },
  {
   "cell_type": "code",
   "execution_count": null,
   "metadata": {},
   "outputs": [],
   "source": [
    "\"\"\"\n",
    "we can use the validation df to recommend animes for users\n",
    "we will choose an arbitrary user id like 183 and will choose to show an arbitrary number also \n",
    "like the top 10 animes\n",
    "\n",
    "\"\"\"\n",
    "\n",
    "npRecommend = validation[validation.user_group == 183].to_numpy()\n",
    "npRecommend[:,0] = myNN(torch.Tensor(npRecommend[:,1:]).to(device)).to(device).cpu().detach().numpy().reshape(-1)\n",
    "indecies =  np.argsort(npRecommend[:,0])[-10:][::-1]\n",
    "anime_ids = [npRecommend[i,2] for i in indecies]\n",
    "\n",
    "recommendedAnimes = anime[anime.anime_id.isin(anime_ids)]\n",
    "    \n",
    "recommendedAnimes"
   ]
  }
 ],
 "metadata": {
  "kernelspec": {
   "display_name": "Python 3",
   "language": "python",
   "name": "python3"
  },
  "language_info": {
   "codemirror_mode": {
    "name": "ipython",
    "version": 3
   },
   "file_extension": ".py",
   "mimetype": "text/x-python",
   "name": "python",
   "nbconvert_exporter": "python",
   "pygments_lexer": "ipython3",
   "version": "3.8.5"
  }
 },
 "nbformat": 4,
 "nbformat_minor": 4
}
